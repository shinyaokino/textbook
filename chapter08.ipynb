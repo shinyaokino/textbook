{
 "cells": [
  {
   "cell_type": "markdown",
   "metadata": {
    "collapsed": true
   },
   "source": [
    "# Jupyter-notebook, Pythonの使用例\n",
    "\n",
    "この章では、これまで学んできたJupyter-notebookやプログラミング言語Pythonの使用例を紹介する。"
   ]
  },
  {
   "cell_type": "markdown",
   "metadata": {},
   "source": [
    "## 実験ノートの作成"
   ]
  },
  {
   "cell_type": "markdown",
   "metadata": {
    "collapsed": true
   },
   "source": [
    "### 実験ノートとJupyter\n",
    "\n",
    "物理学実験など実験を行う場合、実験ノートを作る必要がある。\n",
    "\n",
    "実験手順や実験データのほか、得られた実験データ記録する。\n",
    "さらに、データをどう解析したか、その結果がどうであったかも残す必要がある。\n",
    "\n",
    "しかし、近年はデータ解析をコンピュータで行うことが増えている。\n",
    "特に複雑な解析になると、実験ノートにその内容を記述することができなくなる。\n",
    "\n",
    "\n",
    "実はJupyter-notebookはコンピュータ上で実験ノートを作成するために開発されたソフトウェアであり、\n",
    "得られたデータや、解析で用いた手法、その結果を値・グラフを用いて残すことができる。\n",
    "\n",
    "今回は、物理学実験で仮想的なデータが得られたと仮定し、\n",
    "それに関する実験ノートを作成する。\n",
    "\n",
    "このようなノートを残しておくことで、レポート作成も非常にスムースになる。"
   ]
  },
  {
   "cell_type": "markdown",
   "metadata": {},
   "source": [
    "### 仮想的な実験結果\n",
    "\n",
    "バネ定数を計測する実験で、以下のデータが得られたと仮定する。\n",
    "ここでxがバネに取り付けたおもりの重さ［g］であり、yがバネの長さの計測結果［mm］である。\n",
    "\n",
    "+ x = [0., 10., 20., 50., 100., 150., 200., 300.]\n",
    "\n",
    "+ y = [91.3, 95.4, 96.7, 105.0, 115.9, 127.2, 139.6, 162.4]\n",
    "\n",
    "このような結果を記録しつつ、可視化・解析を行う。"
   ]
  },
  {
   "cell_type": "code",
   "execution_count": 1,
   "metadata": {
    "collapsed": true
   },
   "outputs": [],
   "source": [
    "# 数値計算・グラフ描画を行うライブラリをインポートしておく\n",
    "import numpy as np\n",
    "%matplotlib inline\n",
    "import matplotlib.pyplot as plt"
   ]
  },
  {
   "cell_type": "code",
   "execution_count": 2,
   "metadata": {
    "collapsed": true
   },
   "outputs": [],
   "source": [
    "# 変数名は、後で見てわかりやすいものにする。\n",
    "# さらに、適宜コメントを記入してひと目で内容がわかるようにする。\n",
    "\n",
    "# おもりの重さ(g)\n",
    "# バネの長さ(mm)\n",
    "weight = [0., 10., 20., 50., 100., 150., 200., 300.]\n",
    "length = [91.3, 95.4, 96.7, 105.0, 115.9, 127.2, 139.6, 162.4]"
   ]
  },
  {
   "cell_type": "code",
   "execution_count": null,
   "metadata": {
    "collapsed": true
   },
   "outputs": [],
   "source": []
  },
  {
   "cell_type": "code",
   "execution_count": null,
   "metadata": {
    "collapsed": true
   },
   "outputs": [],
   "source": []
  },
  {
   "cell_type": "code",
   "execution_count": null,
   "metadata": {
    "collapsed": true
   },
   "outputs": [],
   "source": []
  }
 ],
 "metadata": {
  "anaconda-cloud": {},
  "kernelspec": {
   "display_name": "Python [Root]",
   "language": "python",
   "name": "Python [Root]"
  },
  "language_info": {
   "codemirror_mode": {
    "name": "ipython",
    "version": 3
   },
   "file_extension": ".py",
   "mimetype": "text/x-python",
   "name": "python",
   "nbconvert_exporter": "python",
   "pygments_lexer": "ipython3",
   "version": "3.5.2"
  }
 },
 "nbformat": 4,
 "nbformat_minor": 0
}
