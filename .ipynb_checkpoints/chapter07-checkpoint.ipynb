{
 "cells": [
  {
   "cell_type": "markdown",
   "metadata": {
    "collapsed": true
   },
   "source": [
    "# Jupyter-notebook, Pythonの使用例\n",
    "\n",
    "この章では、これまで学んできたJupyter-notebookやプログラミング言語Pythonの使用例を紹介する。"
   ]
  },
  {
   "cell_type": "markdown",
   "metadata": {},
   "source": [
    "## 実験ノートの作成"
   ]
  },
  {
   "cell_type": "markdown",
   "metadata": {
    "collapsed": true
   },
   "source": [
    "### 実験ノートとJupyter\n",
    "\n",
    "物理学実験など実験を行う場合、実験ノートを作る必要がある。\n",
    "\n",
    "実験手順や実験データのほか、得られた実験データ記録する。\n",
    "さらに、データをどう解析したか、その結果がどうであったかも残す必要がある。\n",
    "\n",
    "しかし、近年はデータ解析をコンピュータで行うことが増えている。\n",
    "特に複雑な解析になると、実験ノートにその内容を記述することができなくなる。\n",
    "\n",
    "\n",
    "実はJupyter-notebookはコンピュータ上で実験ノートを作成するために開発されたソフトウェアであり、\n",
    "得られたデータや、解析で用いた手法、その結果を値・グラフを用いて残すことができる。\n",
    "\n",
    "今回は、物理学実験で仮想的なデータが得られたと仮定し、\n",
    "それに関する実験ノートを作成する。\n",
    "\n",
    "このようなノートを残しておくことで、レポート作成も非常にスムースになる。"
   ]
  },
  {
   "cell_type": "markdown",
   "metadata": {},
   "source": [
    "### 仮想的な実験結果\n",
    "\n"
   ]
  },
  {
   "cell_type": "code",
   "execution_count": null,
   "metadata": {
    "collapsed": true
   },
   "outputs": [],
   "source": []
  }
 ],
 "metadata": {
  "anaconda-cloud": {},
  "kernelspec": {
   "display_name": "Python [Root]",
   "language": "python",
   "name": "Python [Root]"
  },
  "language_info": {
   "codemirror_mode": {
    "name": "ipython",
    "version": 3
   },
   "file_extension": ".py",
   "mimetype": "text/x-python",
   "name": "python",
   "nbconvert_exporter": "python",
   "pygments_lexer": "ipython3",
   "version": "3.5.2"
  }
 },
 "nbformat": 4,
 "nbformat_minor": 0
}
