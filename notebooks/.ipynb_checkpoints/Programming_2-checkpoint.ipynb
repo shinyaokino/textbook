{
 "cells": [
  {
   "cell_type": "markdown",
   "metadata": {},
   "source": [
    "**プログラミング入門（第２回）**"
   ]
  },
  {
   "cell_type": "markdown",
   "metadata": {},
   "source": [
    "# 例"
   ]
  },
  {
   "cell_type": "markdown",
   "metadata": {},
   "source": [
    "この例題では、前回扱った実験結果に対し直線フィットを行う。\n",
    "\n",
    "その例を通して、プログラミングの基本的な論理構造であるforループやリストの扱い方を学ぶ。"
   ]
  },
  {
   "cell_type": "code",
   "execution_count": 1,
   "metadata": {
    "ExecuteTime": {
     "end_time": "2016-07-15T08:57:35.040052",
     "start_time": "2016-07-15T08:57:34.778450"
    },
    "collapsed": true
   },
   "outputs": [],
   "source": [
    "# numpy という数値計算ライブラリを使えるようにする命令\n",
    "import numpy as np\n",
    "# matplotlib というグラフ描画ライブラリを使えるようにする命令\n",
    "%matplotlib inline\n",
    "import matplotlib.pyplot as plt "
   ]
  },
  {
   "cell_type": "markdown",
   "metadata": {},
   "source": [
    "前回扱ったバネ定数計測の実験結果をもう一度用いる。\n",
    "\n",
    "xがバネに取り付けたおもりの重さ［g］であり、yがバネの伸びの計測結果［mm］である。"
   ]
  },
  {
   "cell_type": "code",
   "execution_count": 2,
   "metadata": {
    "ExecuteTime": {
     "end_time": "2016-07-15T09:00:25.031499",
     "start_time": "2016-07-15T09:00:25.021129"
    },
    "collapsed": true
   },
   "outputs": [],
   "source": [
    "# おもりの重さ(g)\n",
    "x = [0., 10., 20., 50., 100., 150., 200., 300.]\n",
    "# バネの長さ(mm)\n",
    "y = [91.3, 95.4, 96.7, 105.0, 115.9, 127.2, 139.6, 162.4]"
   ]
  },
  {
   "cell_type": "markdown",
   "metadata": {},
   "source": [
    "グラフを描画する。"
   ]
  },
  {
   "cell_type": "code",
   "execution_count": 3,
   "metadata": {
    "ExecuteTime": {
     "end_time": "2016-07-15T09:01:51.120492",
     "start_time": "2016-07-15T09:01:50.887534"
    },
    "collapsed": false
   },
   "outputs": [
    {
     "data": {
      "text/plain": [
       "<matplotlib.text.Text at 0x7f78a1110d30>"
      ]
     },
     "execution_count": 3,
     "metadata": {},
     "output_type": "execute_result"
    },
    {
     "data": {
      "image/png": "[encoded data removed]",
      "text/plain": [
       "<matplotlib.figure.Figure at 0x7f78a33a7f98>"
      ]
     },
     "metadata": {},
     "output_type": "display_data"
    }
   ],
   "source": [
    "plt.plot(x,y,'o')\n",
    "plt.xlabel('x (g)')\n",
    "plt.ylabel('y (mm)')"
   ]
  },
  {
   "cell_type": "markdown",
   "metadata": {},
   "source": [
    "x と y には直線関係がありそうである。\n",
    "\n",
    "そのため、この計測点をもっともよく再現する直線$y=ax + b$を求める。"
   ]
  },
  {
   "cell_type": "code",
   "execution_count": 5,
   "metadata": {
    "ExecuteTime": {
     "end_time": "2016-07-15T09:04:22.466575",
     "start_time": "2016-07-15T09:04:22.462662"
    },
    "collapsed": true
   },
   "outputs": [],
   "source": [
    "# numpyライブラリの多項式フィット関数を用いる。\n",
    "# ひとつ目の引数にはxのリストを、ふたつ目の引数にはyのリストを、３つめには多項式の次数を入力する。今回は直線を用いるので1である。\n",
    "a, b = np.polyfit(x, y, 1)"
   ]
  },
  {
   "cell_type": "code",
   "execution_count": 7,
   "metadata": {
    "ExecuteTime": {
     "end_time": "2016-07-15T09:04:38.790890",
     "start_time": "2016-07-15T09:04:38.788105"
    },
    "collapsed": false
   },
   "outputs": [
    {
     "name": "stdout",
     "output_type": "stream",
     "text": [
      "0.234260746339 92.3829475673\n"
     ]
    }
   ],
   "source": [
    "# a, bの値を表示させる。\n",
    "print(a,b)"
   ]
  },
  {
   "cell_type": "markdown",
   "metadata": {},
   "source": [
    "求めたa, bの値から決まる直線をグラフに表示させてみる。\n",
    "\n",
    "そのため、あらたなリスト型変数のx_fit,y_fitを作成する。"
   ]
  },
  {
   "cell_type": "code",
   "execution_count": 8,
   "metadata": {
    "ExecuteTime": {
     "end_time": "2016-07-15T09:07:47.406394",
     "start_time": "2016-07-15T09:07:47.398072"
    },
    "collapsed": true
   },
   "outputs": [],
   "source": [
    "n = 100 # リストの個数\n",
    "x_min = -10 # x_fitの下限\n",
    "x_max = 310 # x_fitの上限\n",
    "\n",
    "x_fit = [] # x, y に、空のリストを用意する。\n",
    "y_fit = []\n",
    "for i in range(n):\n",
    "    x1 = x_min + (x_max-x_min)/(n-1)*i \n",
    "    x_fit.append(x1)\n",
    "    y_fit.append(a*x1 + b)"
   ]
  },
  {
   "cell_type": "markdown",
   "metadata": {},
   "source": [
    "計算したx_fit,y_fitも同時に描画する。"
   ]
  },
  {
   "cell_type": "code",
   "execution_count": 11,
   "metadata": {
    "ExecuteTime": {
     "end_time": "2016-07-15T09:09:03.314681",
     "start_time": "2016-07-15T09:09:03.051471"
    },
    "collapsed": false
   },
   "outputs": [
    {
     "data": {
      "text/plain": [
       "<matplotlib.legend.Legend at 0x7f78a0f03dd8>"
      ]
     },
     "execution_count": 11,
     "metadata": {},
     "output_type": "execute_result"
    },
    {
     "data": {
      "image/png": "[encoded data removed]",
      "text/plain": [
       "<matplotlib.figure.Figure at 0x7f78a0fdd748>"
      ]
     },
     "metadata": {},
     "output_type": "display_data"
    }
   ],
   "source": [
    "plt.plot(x,y,'o', label='experiment')\n",
    "plt.plot(x_fit, y_fit, '--', label='fit')\n",
    "plt.xlabel('x (g)')\n",
    "plt.ylabel('y (mm)')\n",
    "plt.legend(loc='best')"
   ]
  },
  {
   "cell_type": "markdown",
   "metadata": {},
   "source": [
    "# リストとForループ"
   ]
  },
  {
   "cell_type": "markdown",
   "metadata": {},
   "source": [
    "先週学んだように、リストは\n",
    "`x = [0., 10., 20., 50., 100., 150., 200., 300.]`\n",
    "のように、複数のオブジェクトを格納できる仕組みであった。\n",
    "\n",
    "上記のように値を直接入力することもできるが、さきほどの例のように、$x\\in[-10,310]$ 内を100点に区切った値を格納したい時では、全てを手入力するのは非効率である。\n",
    "\n",
    "このような繰り返し処理を行うForループについて学ぶ。"
   ]
  },
  {
   "cell_type": "markdown",
   "metadata": {},
   "source": [
    "以下の例を入力せよ。"
   ]
  },
  {
   "cell_type": "code",
   "execution_count": 16,
   "metadata": {
    "ExecuteTime": {
     "end_time": "2016-07-15T09:33:06.845456",
     "start_time": "2016-07-15T09:33:06.842659"
    },
    "collapsed": false
   },
   "outputs": [
    {
     "name": "stdout",
     "output_type": "stream",
     "text": [
      "0\n",
      "1\n",
      "2\n"
     ]
    }
   ],
   "source": [
    "for i in range(3):\n",
    "    print(i)"
   ]
  },
  {
   "cell_type": "markdown",
   "metadata": {},
   "source": [
    "このように、Forループとrange関数の組み合わせでは、まず`i`に0を代入し、命令を実行する。\n",
    "\n",
    "命令が最後まで進むと、`i`に次の整数を代入して再度命令を繰り返す。\n",
    "\n",
    "この例では3回命令が繰り返されている。 "
   ]
  },
  {
   "cell_type": "markdown",
   "metadata": {},
   "source": [
    "## 課題\n",
    "\n",
    "TODO"
   ]
  },
  {
   "cell_type": "markdown",
   "metadata": {
    "collapsed": true
   },
   "source": [
    "ガウス関数でも描かせる"
   ]
  },
  {
   "cell_type": "code",
   "execution_count": null,
   "metadata": {
    "collapsed": true
   },
   "outputs": [],
   "source": []
  }
 ],
 "metadata": {
  "kernelspec": {
   "display_name": "Python 3",
   "language": "python",
   "name": "python3"
  },
  "language_info": {
   "codemirror_mode": {
    "name": "ipython",
    "version": 3
   },
   "file_extension": ".py",
   "mimetype": "text/x-python",
   "name": "python",
   "nbconvert_exporter": "python",
   "pygments_lexer": "ipython3",
   "version": "3.5.2"
  },
  "latex_envs": {
   "bibliofile": "biblio.bib",
   "cite_by": "apalike",
   "current_citInitial": 1,
   "eqLabelWithNumbers": true,
   "eqNumInitial": 0
  },
  "toc": {
   "toc_cell": false,
   "toc_number_sections": true,
   "toc_threshold": 6,
   "toc_window_display": false
  }
 },
 "nbformat": 4,
 "nbformat_minor": 0
}
