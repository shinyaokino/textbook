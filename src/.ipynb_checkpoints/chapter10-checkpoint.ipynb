{
 "cells": [
  {
   "cell_type": "markdown",
   "metadata": {},
   "source": [
    "# 応用１\n",
    "\n",
    "これまで学習した内容を様々な内容に応用する。\n",
    "\n",
    "この章では、ロケットの弾道のシミュレーションを行う。"
   ]
  },
  {
   "cell_type": "markdown",
   "metadata": {},
   "source": [
    "## 歴史的背景\n",
    "\n",
    "＊＊＊"
   ]
  },
  {
   "cell_type": "markdown",
   "metadata": {},
   "source": [
    "## シミュレーションモデル\n",
    "\n",
    "以下の図のように、ロケットを発射台から角度$\\theta$で斜め上方に打ち上げる状況を考える。\n",
    "図に示したように、発射台の位置を原点にとり、地表面に平行な方向を$x$座標、鉛直方向を$y$座標とし、$x-y$平面内でのロケットの弾道を考える。\n",
    "\n",
    "簡単のため以下を仮定する。\n",
    "\n",
    "+ 地表面は平面であるとし、重力加速度は高度によらず$g = 9.81\\mathrm{[m/s^2]}$で一定とする。\n",
    "+ ロケットには駆動力はないとする。空気抵抗を受けながら速度を落としつつ、空中を移動する。\n",
    "\n",
    "打ち上げ時のロケットの$(x, y)$方向の初速をそれぞれ$v_x, v_y$と置く。"
   ]
  },
  {
   "cell_type": "markdown",
   "metadata": {},
   "source": [
    "## 空気抵抗を無視したモデル。\n",
    "\n",
    "まずは、空気抵抗がない状況を考える。\n",
    "\n",
    "ロケットの速度は、次の微分方程式で表すことができる。\n",
    "\n",
    "$\n",
    "\\frac{\\mathrm{d}v_x}{\\mathrm{d}t} = 0 \\\\\n",
    "\\frac{\\mathrm{d}v_y}{\\mathrm{d}t} = -g\n",
    "$\n",
    "\n",
    "また、ロケットの位置は、速度$v_x, v_y$を用いて次の微分方程式で表すことができる。\n",
    "\n",
    "$\n",
    "\\frac{\\mathrm{d}x}{\\mathrm{d}t} = v_x \\\\\n",
    "\\frac{\\mathrm{d}x}{\\mathrm{d}t} = v_y\n",
    "$"
   ]
  },
  {
   "cell_type": "markdown",
   "metadata": {},
   "source": [
    "### オイラー法\n",
    "微分に関する項を次のような差分に置き換えて近似し、解くことにする。\n",
    "\n",
    "$\n",
    "\\frac{\\mathrm{d}f(t)}{\\mathrm{d}t} \\approx \\frac{f(t+\\Delta t) - f(t)}{\\Delta t}\n",
    "$\n",
    "\n",
    "つまり、\n",
    "$\n",
    "f(t+\\Delta t) \\approx f(t) + \\frac{\\mathrm{d}f(t)}{\\mathrm{d}t}\\Delta t\n",
    "$\n",
    "と近似することになる。\n",
    "\n",
    "この近似を**オイラー法**と呼ぶ"
   ]
  },
  {
   "cell_type": "markdown",
   "metadata": {},
   "source": [
    "### シミュレーションの指針\n",
    "\n",
    "この近似を用いると、空気抵抗なしモデルでのロケットの弾道は、以下のような手順で解くことができる。\n",
    "1. $t=0$でのロケットの位置($x(0), y(0)$)・速度(v_x(0), v_y(0)})を変数に代入する。\n",
    "2. 時刻$t$でのロケットの位置($x(t), y(t)$)、速度が($v_x(t), v_y(t)$)が与えられた時、\n",
    "時刻$t+\\Delta t$でのロケットの位置($x(t+\\Delta t), y(t+\\Delta t)$)は、\n",
    "\n",
    "$\n",
    "x(\\Delta t) = x(0) + \\frac{\\mathrm{d}x(0)}{\\mathrm{d}t}\\Delta t = x(0) + v_x(0)\\Delta t \\\\\n",
    "y(\\Delta t) = y(0) + \\frac{\\mathrm{d}y(0)}{\\mathrm{d}t}\\Delta t = y(0) + v_y(0)\\Delta t  \\\\\n",
    "$\n",
    "\n",
    "と近似でき、ロケットの速度($v_x(t+\\Delta t), v_y(t+\\Delta t)$)は、\n",
    "\n",
    "$\n",
    "v_x(\\Delta t) = v_x(0) + \\frac{\\mathrm{d}v_x(0)}{\\mathrm{d}t}\\Delta t = v_x(0) \\\\\n",
    "v_y(\\Delta t) = v_y(0) + \\frac{\\mathrm{d}v_y(0)}{\\mathrm{d}t}\\Delta t = v_y(0) - g \\Delta t \\\\\n",
    "$\n",
    "\n",
    "と近似できる。"
   ]
  },
  {
   "cell_type": "markdown",
   "metadata": {},
   "source": [
    "### Pythonによるプログラミング\n",
    "\n",
    "上式をPythonによりプログラミングする。"
   ]
  },
  {
   "cell_type": "code",
   "execution_count": 25,
   "metadata": {
    "ExecuteTime": {
     "end_time": "2016-07-30T17:02:03.108464",
     "start_time": "2016-07-30T17:02:02.889676"
    },
    "collapsed": true
   },
   "outputs": [],
   "source": [
    "# まずは、必要なライブラリをインポートする。\n",
    "import numpy as np\n",
    "%matplotlib inline\n",
    "import matplotlib.pyplot as plt"
   ]
  },
  {
   "cell_type": "markdown",
   "metadata": {},
   "source": [
    "まずは、必要な数値（重力加速度、時刻$t = 0$のロケットの位置・速度、離散化するための時間間隔$\\Delta t$）を定義する。"
   ]
  },
  {
   "cell_type": "code",
   "execution_count": 4,
   "metadata": {
    "ExecuteTime": {
     "end_time": "2016-07-30T16:49:59.515297",
     "start_time": "2016-07-30T16:49:59.506578"
    },
    "collapsed": true
   },
   "outputs": [],
   "source": [
    "# 重力加速度\n",
    "g = 9.80665 # 単位は m/s^2 \n",
    "\n",
    "# t=0s でのロケットの位置\n",
    "x0 = 0.0    # 単位は m\n",
    "y0 = 0.0\n",
    "\n",
    "# t=0s でのロケットの初速\n",
    "vx0 = 10.0 # m/s\n",
    "vy0 = 10.0 # m/s\n",
    "\n",
    "# 離散化する時間間隔\n",
    "delta_t = 0.001 # 1ms"
   ]
  },
  {
   "cell_type": "markdown",
   "metadata": {},
   "source": [
    "次に、時刻$x(t), y(t), vx(t), vy(t)$が与えられた時に、$x(t+\\Delta t), y(t+\\Delta t), vx(t+\\Delta t), vy(t+\\Delta t)$ を返す**関数**を定義する。"
   ]
  },
  {
   "cell_type": "code",
   "execution_count": 32,
   "metadata": {
    "ExecuteTime": {
     "end_time": "2016-07-30T17:18:26.036094",
     "start_time": "2016-07-30T17:18:26.029128"
    },
    "collapsed": true
   },
   "outputs": [],
   "source": [
    "# x, y, vx, vy が時刻tでのロケットの座標、速度とする。\n",
    "# 関数の名前は何でもよいが、後に空気抵抗がある場合の計算を行うので、区別できるよう next_no_air とした。\n",
    "def next_no_air(x, y, vx, vy, delta_t):\n",
    "    # x_next, y_next: t+delta_t でのロケットの座標。\n",
    "    x_next = x + delta_t * vx\n",
    "    y_next = y + delta_t * vy\n",
    "    # vx_next, vy_next: t+delta_t でのロケットの速度。\n",
    "    vx_next = vx\n",
    "    vy_next = vy - delta_t * g\n",
    "    return x_next, y_next, vx_next, vy_next # 計算した4つの値を返す。"
   ]
  },
  {
   "cell_type": "markdown",
   "metadata": {},
   "source": [
    "この関数を使えば、時刻$\\Delta t$での位置・座標が次のようにして計算できる。"
   ]
  },
  {
   "cell_type": "code",
   "execution_count": 33,
   "metadata": {
    "ExecuteTime": {
     "end_time": "2016-07-30T17:18:30.756205",
     "start_time": "2016-07-30T17:18:30.752156"
    },
    "collapsed": false
   },
   "outputs": [
    {
     "name": "stdout",
     "output_type": "stream",
     "text": [
      "(0.01, 0.01, 10.0, 9.99019335)\n"
     ]
    }
   ],
   "source": [
    "# 引数には、時刻$t=0$での座標、速度を渡す。\n",
    "# 戻り値を x1, y1, vx1, vy1 に代入する。\n",
    "x1, y1, vx1, vy1 = next_no_air(x0, y0, vx0, vy0, delta_t)\n",
    "print(x1, y1, vx1, vy1) #　計算した結果を画面に表示する"
   ]
  },
  {
   "cell_type": "markdown",
   "metadata": {},
   "source": [
    "時刻 $2\\Delta t$ でのロケットの位置・座標は、この計算結果を用いて、以下のように計算できる。"
   ]
  },
  {
   "cell_type": "code",
   "execution_count": 34,
   "metadata": {
    "ExecuteTime": {
     "end_time": "2016-07-30T17:18:37.665719",
     "start_time": "2016-07-30T17:18:37.659249"
    },
    "collapsed": false
   },
   "outputs": [
    {
     "name": "stdout",
     "output_type": "stream",
     "text": [
      "(0.02, 0.01999019335, 10.0, 9.9803867)\n"
     ]
    }
   ],
   "source": [
    "# 引数には、時刻 delta_t の計算結果を渡す。\n",
    "x2, y2, vx2, vy2 = next_no_air(x1, y1, vx1, vy1, delta_t)\n",
    "print(x2, y2, vx2, vy2)"
   ]
  },
  {
   "cell_type": "markdown",
   "metadata": {},
   "source": [
    "これを、以前学習した`while`ループと、リストの組み合わせで計算する。"
   ]
  },
  {
   "cell_type": "code",
   "execution_count": 35,
   "metadata": {
    "ExecuteTime": {
     "end_time": "2016-07-30T17:18:43.719792",
     "start_time": "2016-07-30T17:18:43.702084"
    },
    "collapsed": false
   },
   "outputs": [],
   "source": [
    "# 計算結果を格納する空のリストを用意する。\n",
    "# 変数の名前は何でも良いが、のちに空気抵抗がないときの計算も行うので、x_no_air など、わかりやすいものとする。\n",
    "x_no_air = []\n",
    "y_no_air = []\n",
    "vx_no_air = []\n",
    "vy_no_air = []\n",
    "\n",
    "t = 0 # 時刻を格納する変数\n",
    "# 時刻tでの座標、速度を格納する変数。t=0のときはx0, y0, vx0, vy0に一致する。\n",
    "x, y, vx, vy = x0, y0, vx0, vy0\n",
    "\n",
    "# ロケットのy座標が0より大きい間だけ計算する。\n",
    "while y >= 0.:\n",
    "    x, y, vx, vy = next_no_air(x, y, vx, vy, delta_t) # tでの位置・速度からt+delta_tの位置・速度を導出する。\n",
    "    t += delta_t #　それにしたがって時刻も増加させる。\n",
    "    \n",
    "    # 計算結果を格納する\n",
    "    x_no_air.append(x)\n",
    "    y_no_air.append(y)\n",
    "    vx_no_air.append(vx)\n",
    "    vy_no_air.append(vy)"
   ]
  },
  {
   "cell_type": "code",
   "execution_count": 36,
   "metadata": {
    "ExecuteTime": {
     "end_time": "2016-07-30T17:18:44.337589",
     "start_time": "2016-07-30T17:18:44.147493"
    },
    "collapsed": false
   },
   "outputs": [
    {
     "data": {
      "text/plain": [
       "<matplotlib.text.Text at 0x7f084d238910>"
      ]
     },
     "execution_count": 36,
     "metadata": {},
     "output_type": "execute_result"
    },
    {
     "data": {
      "image/png": "[encoded data removed]",
      "text/plain": [
       "<matplotlib.figure.Figure at 0x7f084d1d7450>"
      ]
     },
     "metadata": {},
     "output_type": "display_data"
    }
   ],
   "source": [
    "plt.plot(x_no_air, y_no_air)\n",
    "plt.xlabel('x (m)')\n",
    "plt.ylabel('y (m)')"
   ]
  },
  {
   "cell_type": "markdown",
   "metadata": {},
   "source": [
    "なお、空気抵抗がないときのロケット弾道の軌跡は解析的に、以下の式で表される。\n",
    "\n",
    "$\n",
    "******\n",
    "$\n",
    "\n",
    "解析解を以下のようにリストに格納する。"
   ]
  },
  {
   "cell_type": "code",
   "execution_count": null,
   "metadata": {
    "collapsed": true
   },
   "outputs": [],
   "source": []
  },
  {
   "cell_type": "markdown",
   "metadata": {},
   "source": [
    "** 課題　**\n",
    "\n",
    "初速が異なる以下の3つのケースについてロケットの弾道をオイラー法で計算し、同時にグラフに描画せよ。"
   ]
  },
  {
   "cell_type": "code",
   "execution_count": null,
   "metadata": {
    "collapsed": true
   },
   "outputs": [],
   "source": []
  },
  {
   "cell_type": "markdown",
   "metadata": {},
   "source": [
    "## 速度に比例する空気抵抗を用いたモデル\n",
    "\n",
    "一般に＊＊＊では、速度に比例した空気抵抗を受ける。\n",
    "\n",
    "このときロケット速度の微分方程式は、空気抵抗に関する係数$D$を用いて以下のように修正される。\n",
    "\n",
    "$\n",
    "\\frac{\\mathrm{d}v_x}{\\mathrm{d}t} = -D |v_x| \\Delta t\\\\\n",
    "\\frac{\\mathrm{d}v_y}{\\mathrm{d}t} = -(D |v_y| + g)\\Delta t \\\\\n",
    "$\n",
    "\n",
    "ここで、$|v_x|$ などは絶対値を表す。"
   ]
  },
  {
   "cell_type": "markdown",
   "metadata": {},
   "source": [
    "### Pythonによるプログラミング\n",
    "上の例の時と同様に、時刻$x(t), y(t), vx(t), vy(t)$が与えられた時に、$x(t+\\Delta t), y(t+\\Delta t), vx(t+\\Delta t), vy(t+\\Delta t)$ を返す**関数**を定義する。"
   ]
  },
  {
   "cell_type": "code",
   "execution_count": 39,
   "metadata": {
    "ExecuteTime": {
     "end_time": "2016-07-30T17:20:36.658913",
     "start_time": "2016-07-30T17:20:36.651295"
    },
    "collapsed": true
   },
   "outputs": [],
   "source": [
    "# 位置・速度の他、空気抵抗の係数Dを引数に渡すことにする。\n",
    "def next_friction_order1(x, y, vx, vy, D, delta_t):\n",
    "    # x_next, y_next: t+delta_t でのロケットの座標。\n",
    "    x_next = x + delta_t * vx\n",
    "    y_next = y + delta_t * vy\n",
    "\n",
    "    # vx_next, vy_next: t+delta_t でのロケットの速度。\n",
    "    vx_next = vx - D * np.abs(vx) * delta_t\n",
    "    vy_next = vy - (D * np.abs(vy) + g) * delta_t\n",
    "    \n",
    "    return x_next, y_next, vx_next, vy_next # 計算した4つの値を返す。"
   ]
  },
  {
   "cell_type": "markdown",
   "metadata": {},
   "source": [
    "** 課題 **\n",
    "\n",
    "上の例と同様に、whileループを用いて空気抵抗があるときのロケットの軌跡を計算せよ。\n",
    "\n",
    "なお、ロケットの大きさが異なる2つの場合について計算すること。\n",
    "ロケットの大きさが異なると空気抵抗の大きさが異なる。\n",
    "\n",
    "小さい方のロケットに対する空気抵抗係数$D=****$、大きい方のロケットに対する空気抵抗係数$D=****$を用いて計算し、空気抵抗がない場合の例と合わせて3つの軌跡を図に表すこと。"
   ]
  },
  {
   "cell_type": "markdown",
   "metadata": {},
   "source": []
  },
  {
   "cell_type": "code",
   "execution_count": null,
   "metadata": {
    "collapsed": true
   },
   "outputs": [],
   "source": []
  },
  {
   "cell_type": "code",
   "execution_count": null,
   "metadata": {
    "collapsed": true
   },
   "outputs": [],
   "source": []
  },
  {
   "cell_type": "markdown",
   "metadata": {},
   "source": [
    "# 補足\n",
    "\n",
    "今回計算した結果をアニメーションにして表示してみよう。\n",
    "\n",
    "＊＊＊\n",
    "＊＊＊"
   ]
  },
  {
   "cell_type": "code",
   "execution_count": null,
   "metadata": {
    "collapsed": true
   },
   "outputs": [],
   "source": []
  }
 ],
 "metadata": {
  "kernelspec": {
   "display_name": "Python 2",
   "language": "python",
   "name": "python2"
  },
  "language_info": {
   "codemirror_mode": {
    "name": "ipython",
    "version": 2
   },
   "file_extension": ".py",
   "mimetype": "text/x-python",
   "name": "python",
   "nbconvert_exporter": "python",
   "pygments_lexer": "ipython2",
   "version": "2.7.11"
  },
  "latex_envs": {
   "bibliofile": "biblio.bib",
   "cite_by": "apalike",
   "current_citInitial": 1,
   "eqLabelWithNumbers": true,
   "eqNumInitial": 0
  },
  "toc": {
   "toc_cell": false,
   "toc_number_sections": true,
   "toc_threshold": 6,
   "toc_window_display": false
  }
 },
 "nbformat": 4,
 "nbformat_minor": 0
}
