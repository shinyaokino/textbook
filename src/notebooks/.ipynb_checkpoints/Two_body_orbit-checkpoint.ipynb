{
 "cells": [
  {
   "cell_type": "markdown",
   "metadata": {},
   "source": [
    "# 背景\n",
    "\n",
    "この章では、距離の二乗に比例する力でひかれ合う2つの物体の運動をシミュレートする。\n",
    "\n",
    "例えば、万有引力でひかれ合う地球と月の運動などがその例である。\n",
    "\n",
    "簡単のため、2物体は常に1つの平面上を運動するとする。"
   ]
  },
  {
   "cell_type": "markdown",
   "metadata": {},
   "source": [
    "2物体質量を$m_1, m_2$の位置を$(x_1,y_1), (x_2,y_2)$、\n",
    "\n",
    "速度を$(v^x_1,v^y_1), (v^x_2,v^y_2)$とする。\n",
    "\n",
    "位置に関する微分方程式は\n",
    "$$\n",
    "\\frac{\\mathrm{d}x_i}{\\mathrm{d}t} = v^x_i \\\\\n",
    "\\frac{\\mathrm{d}y_i}{\\mathrm{d}t} = v^y_i\n",
    "$$\n",
    "ここで$i \\in [1,2]$ である。"
   ]
  },
  {
   "cell_type": "markdown",
   "metadata": {},
   "source": [
    "物体1にかかる力$F_1$は、比例定数を$G$として、\n",
    "$$\n",
    "F^x_1 = G \\frac {x_2 - x_1}{r^3} \\\\\n",
    "F^y_1 = G \\frac {y_2 - y_1}{r^3}\n",
    "$$\n",
    "である。なお、$r = \\sqrt{(x_2-x_1)^2+(y_2-y_1)^2}$ である。\n",
    "速度に関する微分方程式は\n",
    "$$\n",
    "\\frac{\\mathrm{d}v^x_i}{\\mathrm{d}t} = \\frac{F^x_i}{m_i} \\\\\n",
    "\\frac{\\mathrm{d}v^y_i}{\\mathrm{d}t} = \\frac{F^y_i}{m_i}\n",
    "$$\n",
    "と表せる。"
   ]
  },
  {
   "cell_type": "markdown",
   "metadata": {},
   "source": [
    "# 数値計算"
   ]
  },
  {
   "cell_type": "markdown",
   "metadata": {},
   "source": [
    "まずライブラリを導入する。"
   ]
  },
  {
   "cell_type": "code",
   "execution_count": 272,
   "metadata": {
    "collapsed": false
   },
   "outputs": [],
   "source": [
    "import numpy as np\n",
    "%matplotlib inline\n",
    "import matplotlib.pyplot as plt"
   ]
  },
  {
   "cell_type": "markdown",
   "metadata": {},
   "source": [
    "位置・速度に関する微分を差分法で近似する。\n",
    "\n",
    "つまり、\n",
    "$$\n",
    "x(t+\\Delta t) = x(t) + \\frac{\\mathrm{d}x}{\\mathrm{d}t}\\Delta t = x(t) + v(t)\\Delta t\n",
    "$$\n",
    "$$\n",
    "v(t+\\Delta t) = v(t) + \\frac{\\mathrm{d}v}{\\mathrm{d}t}\\Delta t = v(t) + \\frac{F(t)}{m} \\Delta t \n",
    "$$"
   ]
  },
  {
   "cell_type": "markdown",
   "metadata": {},
   "source": [
    "まず、$(x_1, y_1), (x_2, y_2), G$ が与えられた時の力$(F^x_1, F^y_1)$を返す関数を作る。\n",
    "\n",
    "なお、$F^x_2 = -F^x_1, F^y_2 = -F^y_1$である。"
   ]
  },
  {
   "cell_type": "code",
   "execution_count": 273,
   "metadata": {
    "collapsed": true
   },
   "outputs": [],
   "source": [
    "def get_F1(x1, y1, x2, y2, G):\n",
    "    # 距離\n",
    "    r = np.sqrt((x2-x1)*(x2-x1) + (y2-y1)*(y2-y1))\n",
    "    # 力\n",
    "    F1x = G*(x2-x1)/(r**3.)\n",
    "    F1y = G*(y2-y1)/(r**3.)\n",
    "    \n",
    "    return F1x, F1y"
   ]
  },
  {
   "cell_type": "markdown",
   "metadata": {},
   "source": [
    "時刻$t$のときの$x, v$ から時刻$t+\\Delta t$での$x$を返す関数を作る。"
   ]
  },
  {
   "cell_type": "code",
   "execution_count": 274,
   "metadata": {
    "collapsed": false
   },
   "outputs": [],
   "source": [
    "def get_x(x, v, delta_t):\n",
    "    return x + v*delta_t    "
   ]
  },
  {
   "cell_type": "markdown",
   "metadata": {},
   "source": [
    "時刻$t$のときの$v, F$ から時刻$t+\\Delta t$での$v$を返す関数を作る。"
   ]
  },
  {
   "cell_type": "code",
   "execution_count": 275,
   "metadata": {
    "collapsed": true
   },
   "outputs": [],
   "source": [
    "def get_v(v, F, m, delta_t):\n",
    "    return v + F/m * delta_t"
   ]
  },
  {
   "cell_type": "markdown",
   "metadata": {},
   "source": [
    "# 各種パラメータの定義"
   ]
  },
  {
   "cell_type": "markdown",
   "metadata": {},
   "source": [
    "$G, m_1, m_2$ を定義する"
   ]
  },
  {
   "cell_type": "code",
   "execution_count": 276,
   "metadata": {
    "collapsed": true
   },
   "outputs": [],
   "source": [
    "G = 1.\n",
    "m1= 1.\n",
    "m2= 0.1"
   ]
  },
  {
   "cell_type": "markdown",
   "metadata": {},
   "source": [
    "$t=0$での$(x_1,y_1),(x_2,y_2), (v^x_1,v^y_1),(v^x_2,v^y_2)$ をそれぞれ与える（初期値）。"
   ]
  },
  {
   "cell_type": "code",
   "execution_count": 277,
   "metadata": {
    "collapsed": true
   },
   "outputs": [],
   "source": [
    "x1_t = 0.\n",
    "y1_t = 0.\n",
    "x2_t = 1.\n",
    "y2_t = 0.\n",
    "\n",
    "vx1_t = 0.\n",
    "vy1_t = 0.1\n",
    "vx2_t = 0.\n",
    "vy2_t = -1."
   ]
  },
  {
   "cell_type": "markdown",
   "metadata": {},
   "source": [
    "$\\Delta t$の値、計算回数$N$を与える"
   ]
  },
  {
   "cell_type": "code",
   "execution_count": 278,
   "metadata": {
    "collapsed": true
   },
   "outputs": [],
   "source": [
    "delta_t = 0.01\n",
    "N = 10000"
   ]
  },
  {
   "cell_type": "markdown",
   "metadata": {},
   "source": [
    "# 繰り返し計算によるシミュレーション"
   ]
  },
  {
   "cell_type": "markdown",
   "metadata": {},
   "source": [
    "値を格納するアレイを用意する"
   ]
  },
  {
   "cell_type": "code",
   "execution_count": 279,
   "metadata": {
    "collapsed": true
   },
   "outputs": [],
   "source": [
    "x1_list = []\n",
    "y1_list = []\n",
    "x2_list = []\n",
    "y2_list = []\n",
    "\n",
    "vx1_list = []\n",
    "vy1_list = []\n",
    "vx2_list = []\n",
    "vy2_list = []"
   ]
  },
  {
   "cell_type": "markdown",
   "metadata": {},
   "source": [
    "forループにより繰り返し計算を行う。"
   ]
  },
  {
   "cell_type": "code",
   "execution_count": 280,
   "metadata": {
    "collapsed": false
   },
   "outputs": [],
   "source": [
    "for i in range(N):\n",
    "    # 現在位置から力を計算する。\n",
    "    F1x, F1y = get_F1(x1_t, y1_t, x2_t, y2_t, G)\n",
    "    # 時刻tでの x,vxから t+ dt でのxを計算する。\n",
    "    x1_t_dt = get_x(x1_t, vx1_t, delta_t)\n",
    "    y1_t_dt = get_x(y1_t, vy1_t, delta_t)\n",
    "    x2_t_dt = get_x(x2_t, vx2_t, delta_t)\n",
    "    y2_t_dt = get_x(y2_t, vy2_t, delta_t)\n",
    "    \n",
    "    # 時刻tでのF, vから t+ dt でのvを計算する。\n",
    "    vx1_t_dt = get_v(vx1_t, F1x, m1, delta_t)\n",
    "    vy1_t_dt = get_v(vy1_t, F1y, m1, delta_t)\n",
    "    vx2_t_dt = get_v(vx2_t, -F1x, m2, delta_t)\n",
    "    vy2_t_dt = get_v(vy2_t, -F1y, m2, delta_t)\n",
    "    \n",
    "    # t + dt での値をリストに格納する。\n",
    "    x1_list.append(x1_t_dt)\n",
    "    y1_list.append(y1_t_dt)\n",
    "    x2_list.append(x2_t_dt)\n",
    "    y2_list.append(y2_t_dt)\n",
    "    \n",
    "    vx1_list.append(vx1_t_dt)\n",
    "    vy1_list.append(vy1_t_dt)\n",
    "    vx2_list.append(vx2_t_dt)\n",
    "    vy2_list.append(vy2_t_dt)\n",
    "    \n",
    "    # 時刻tをdtに更新する。実際は、x1_tにx1_t_dtを代入するなどする\n",
    "    x1_t = x1_t_dt\n",
    "    y1_t = y1_t_dt\n",
    "    x2_t = x2_t_dt\n",
    "    y2_t = y2_t_dt\n",
    "\n",
    "    vx1_t = vx1_t_dt\n",
    "    vy1_t = vy1_t_dt\n",
    "    vx2_t = vx2_t_dt\n",
    "    vy2_t = vy2_t_dt"
   ]
  },
  {
   "cell_type": "markdown",
   "metadata": {},
   "source": [
    "# グラフを描画する。"
   ]
  },
  {
   "cell_type": "code",
   "execution_count": 281,
   "metadata": {
    "collapsed": false
   },
   "outputs": [
    {
     "data": {
      "text/plain": [
       "[<matplotlib.lines.Line2D at 0x7fe1daaa1e80>]"
      ]
     },
     "execution_count": 281,
     "metadata": {},
     "output_type": "execute_result"
    },
    {
     "data": {
      "image/png": "[encoded data removed]",
      "text/plain": [
       "<matplotlib.figure.Figure at 0x7fe1daaa1f28>"
      ]
     },
     "metadata": {},
     "output_type": "display_data"
    }
   ],
   "source": [
    "plt.plot(x1_list, y1_list, '-')\n",
    "plt.plot(x2_list, y2_list, '--')"
   ]
  },
  {
   "cell_type": "code",
   "execution_count": null,
   "metadata": {
    "collapsed": true
   },
   "outputs": [],
   "source": []
  },
  {
   "cell_type": "code",
   "execution_count": null,
   "metadata": {
    "collapsed": true
   },
   "outputs": [],
   "source": []
  }
 ],
 "metadata": {
  "kernelspec": {
   "display_name": "Python [Root]",
   "language": "python",
   "name": "Python [Root]"
  },
  "language_info": {
   "codemirror_mode": {
    "name": "ipython",
    "version": 3
   },
   "file_extension": ".py",
   "mimetype": "text/x-python",
   "name": "python",
   "nbconvert_exporter": "python",
   "pygments_lexer": "ipython3",
   "version": "3.5.2"
  }
 },
 "nbformat": 4,
 "nbformat_minor": 0
}
