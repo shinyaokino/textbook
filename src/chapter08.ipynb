{
 "cells": [
  {
   "cell_type": "markdown",
   "metadata": {
    "collapsed": true
   },
   "source": [
    "# Jupyter-notebook, Pythonの使用例\n",
    "\n",
    "この章では、これまで学んできたJupyter-notebookやプログラミング言語Pythonの使用例を紹介する。"
   ]
  },
  {
   "cell_type": "markdown",
   "metadata": {},
   "source": [
    "## 実験ノートの作成"
   ]
  },
  {
   "cell_type": "markdown",
   "metadata": {
    "collapsed": true
   },
   "source": [
    "### 実験ノートとJupyter\n",
    "\n",
    "物理学実験など実験を行う場合、実験ノートを作る必要がある。\n",
    "\n",
    "実験手順や実験データのほか、得られた実験データ記録する。\n",
    "さらに、データをどう解析したか、その結果がどうであったかも残す必要がある。\n",
    "\n",
    "しかし、近年はデータ解析をコンピュータで行うことが増えている。\n",
    "特に複雑な解析になると、実験ノートにその内容を記述することができなくなる。\n",
    "\n",
    "\n",
    "実はJupyter-notebookはコンピュータ上で実験ノートを作成するために開発されたソフトウェアであり、\n",
    "得られたデータや、解析で用いた手法、その結果を値・グラフを用いて残すことができる。\n",
    "\n",
    "今回は、物理学実験で仮想的なデータが得られたと仮定し、\n",
    "それに関する実験ノートを作成する。\n",
    "\n",
    "このようなノートを残しておくことで、レポート作成も非常にスムースになる。"
   ]
  },
  {
   "cell_type": "markdown",
   "metadata": {},
   "source": [
    "### 仮想的な実験結果\n",
    "\n",
    "バネ定数を計測する実験で、以下のデータが得られたと仮定する。\n",
    "ここでxがバネに取り付けたおもりの重さ［g］であり、yがバネの長さの計測結果［mm］である。\n",
    "\n",
    "+ x = [0., 10., 20., 50., 100., 150., 200., 300.]\n",
    "\n",
    "+ y = [91.3, 95.4, 96.7, 105.0, 115.9, 127.2, 139.6, 162.4]\n",
    "\n",
    "このような結果を記録しつつ、可視化・解析を行う。"
   ]
  },
  {
   "cell_type": "code",
   "execution_count": 2,
   "metadata": {
    "collapsed": false
   },
   "outputs": [
    {
     "name": "stderr",
     "output_type": "stream",
     "text": [
      "/home/keisukefujii/anaconda2/lib/python2.7/site-packages/matplotlib/font_manager.py:273: UserWarning: Matplotlib is building the font cache using fc-list. This may take a moment.\n",
      "  warnings.warn('Matplotlib is building the font cache using fc-list. This may take a moment.')\n"
     ]
    }
   ],
   "source": [
    "# 数値計算・グラフ描画を行うライブラリをインポートしておく\n",
    "import numpy as np\n",
    "%matplotlib inline\n",
    "import matplotlib.pyplot as plt"
   ]
  },
  {
   "cell_type": "code",
   "execution_count": 3,
   "metadata": {
    "collapsed": true
   },
   "outputs": [],
   "source": [
    "# 変数名は、後で見てわかりやすいものにする。\n",
    "# さらに、適宜コメントを記入してひと目で内容がわかるようにする。\n",
    "\n",
    "# おもりの重さ(g)\n",
    "# バネの長さ(mm)\n",
    "weight = [0., 10., 20., 50., 100., 150., 200., 300.]\n",
    "length = [91.3, 95.4, 96.7, 105.0, 115.9, 127.2, 139.6, 162.4]"
   ]
  },
  {
   "cell_type": "markdown",
   "metadata": {
    "collapsed": true
   },
   "source": [
    "### グラフの描画\n",
    "\n",
    "得られたデータはグラフを描くことで、そのおおよその結果を迅速に把握できる。"
   ]
  },
  {
   "cell_type": "code",
   "execution_count": 5,
   "metadata": {
    "collapsed": false
   },
   "outputs": [
    {
     "data": {
      "text/plain": [
       "<matplotlib.text.Text at 0x7f3bd2ca0790>"
      ]
     },
     "execution_count": 5,
     "metadata": {},
     "output_type": "execute_result"
    },
    {
     "data": {
      "image/png": "[encoded data removed]",
      "text/plain": [
       "<matplotlib.figure.Figure at 0x7f3bd2cd3250>"
      ]
     },
     "metadata": {},
     "output_type": "display_data"
    }
   ],
   "source": [
    "plt.plot(weight, length, 'o') # 横軸をweightに、縦軸をlengthに設定したグラフを描く\n",
    "plt.xlabel('weight (g)')  # グラフのx軸にラベルを設定する。\n",
    "plt.ylabel('length (mm)') # グラフのy軸にラベルを設定する。"
   ]
  },
  {
   "cell_type": "markdown",
   "metadata": {
    "collapsed": true
   },
   "source": [
    "グラフを見ることで、この結果が直線的な依存性を示していることがわかる。\n",
    "\n",
    "ヤング率はこのグラフの傾きから求めることができる。\n",
    "\n",
    "このデータ点を最もよく近似する直線 $y = a \\times x + b$ を求める。\n",
    "\n",
    "ここではアルゴリズムの詳細には触れず、numpy に用意されている polyfit 関数の使用法のみを述べる。\n",
    "\n",
    "アルゴリズムの詳細は以下のページ\n",
    "\n",
    "** TODO ** URL needed\n",
    "\n",
    "polyfit関数の詳しい使用法は以下を参考にすること。\n",
    "\n",
    "** TODO ** URL needed\n",
    "\n"
   ]
  },
  {
   "cell_type": "code",
   "execution_count": 6,
   "metadata": {
    "collapsed": true
   },
   "outputs": [],
   "source": [
    "# numpyライブラリの多項式フィット関数を用いる。\n",
    "# ひとつ目の引数にはx軸のデータを格納する変数(ここではweight)を、\n",
    "# ふたつ目の引数にはy軸のデータを格納する変数(ここではlength)を、\n",
    "# ３つめには多項式の次数を入力する。今回は直線を用いるので1である。\n",
    "a, b = np.polyfit(weight, length, 1)"
   ]
  },
  {
   "cell_type": "code",
   "execution_count": 7,
   "metadata": {
    "collapsed": false
   },
   "outputs": [
    {
     "name": "stdout",
     "output_type": "stream",
     "text": [
      "(0.23426074633915905, 92.382947567312257)\n"
     ]
    }
   ],
   "source": [
    "# a, bの値を表示させる。\n",
    "print(a,b)"
   ]
  },
  {
   "cell_type": "markdown",
   "metadata": {},
   "source": [
    "求めたa, bの値から決まる直線をグラフに表示させてみる。\n",
    "\n",
    "そのため、あらたなリスト型変数のx_fit,y_fitを作成する。"
   ]
  },
  {
   "cell_type": "code",
   "execution_count": 8,
   "metadata": {
    "collapsed": true
   },
   "outputs": [],
   "source": [
    "n = 100 # リストの個数\n",
    "x_min = -10 # x_fitの下限\n",
    "x_max = 310 # x_fitの上限\n",
    "\n",
    "x_fit = [] # x, y に、空のリストを用意する。\n",
    "y_fit = []\n",
    "for i in range(n):\n",
    "    x1 = x_min + (x_max-x_min)/(n-1)*i \n",
    "    x_fit.append(x1)\n",
    "    y_fit.append(a*x1 + b)"
   ]
  },
  {
   "cell_type": "markdown",
   "metadata": {},
   "source": [
    "計算したx_fit,y_fitも同時に描画する。"
   ]
  },
  {
   "cell_type": "code",
   "execution_count": 10,
   "metadata": {
    "collapsed": false,
    "scrolled": true
   },
   "outputs": [
    {
     "data": {
      "text/plain": [
       "<matplotlib.legend.Legend at 0x7f3bd28a13d0>"
      ]
     },
     "execution_count": 10,
     "metadata": {},
     "output_type": "execute_result"
    },
    {
     "data": {
      "image/png": "[encoded data removed]",
      "text/plain": [
       "<matplotlib.figure.Figure at 0x7f3bd6c9ac10>"
      ]
     },
     "metadata": {},
     "output_type": "display_data"
    }
   ],
   "source": [
    "plt.plot(weight, length,'o', label='experiment')\n",
    "plt.plot(x_fit, y_fit, '--', label='fit')\n",
    "plt.xlabel('weight (g)')\n",
    "plt.ylabel('length (mm)')\n",
    "plt.legend(loc='best')"
   ]
  },
  {
   "cell_type": "markdown",
   "metadata": {
    "collapsed": true
   },
   "source": [
    "** 課題 **\n",
    "\n",
    "以下のページにあるような実験を行ったと仮定し、\n",
    "実験データの可視化・解析を行う実験ノートをJupyter-notebookを用いて作成せよ。\n",
    "\n",
    "[実験の詳細](chapter09.ipnb)"
   ]
  },
  {
   "cell_type": "code",
   "execution_count": null,
   "metadata": {
    "collapsed": true
   },
   "outputs": [],
   "source": []
  }
 ],
 "metadata": {
  "anaconda-cloud": {},
  "kernelspec": {
   "display_name": "Python 2",
   "language": "python",
   "name": "python2"
  },
  "language_info": {
   "codemirror_mode": {
    "name": "ipython",
    "version": 2
   },
   "file_extension": ".py",
   "mimetype": "text/x-python",
   "name": "python",
   "nbconvert_exporter": "python",
   "pygments_lexer": "ipython2",
   "version": "2.7.11"
  },
  "latex_envs": {
   "bibliofile": "biblio.bib",
   "cite_by": "apalike",
   "current_citInitial": 1,
   "eqLabelWithNumbers": true,
   "eqNumInitial": 0
  },
  "toc": {
   "toc_cell": false,
   "toc_number_sections": true,
   "toc_threshold": 6,
   "toc_window_display": false
  }
 },
 "nbformat": 4,
 "nbformat_minor": 0
}
